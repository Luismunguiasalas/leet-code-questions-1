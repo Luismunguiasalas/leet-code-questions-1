{
 "metadata": {
  "language_info": {
   "codemirror_mode": {
    "name": "ipython",
    "version": 3
   },
   "file_extension": ".py",
   "mimetype": "text/x-python",
   "name": "python",
   "nbconvert_exporter": "python",
   "pygments_lexer": "ipython3",
   "version": 3
  },
  "orig_nbformat": 2
 },
 "nbformat": 4,
 "nbformat_minor": 2,
 "cells": [
  {
   "cell_type": "code",
   "execution_count": null,
   "metadata": {},
   "outputs": [],
   "source": [
    "# my solutions.."
   ]
  },
  {
   "cell_type": "code",
   "execution_count": null,
   "metadata": {},
   "outputs": [],
   "source": [
    "# Two sum\n",
    "class Solution:\n",
    "    def twoSum(self,nums:list[int], target:int) ->list[int]:\n",
    "        dict = {}\n",
    "        nums_len = len(nums)\n",
    "        for x in range(nums_len):\n",
    "            pot_mat = target - nums[x]\n",
    "            if pot_mat in dict:\n",
    "                return [dict[pot_mat], x]\n",
    "            else:\n",
    "                dict[nums[x]] = x\n",
    "        return False\n"
   ]
  },
  {
   "cell_type": "code",
   "execution_count": null,
   "metadata": {},
   "outputs": [],
   "source": [
    "#maximum subarray\n",
    "class solution:\n",
    "    def maxSubarray(self,nums:list[int]) -> int:\n",
    "        t = 0\n",
    "        gt = nums[0]\n",
    "        for n in nums:\n",
    "            if t >= 0:\n",
    "                t += n\n",
    "                if gt < t:\n",
    "                    gt = t\n",
    "            elif t < n:\n",
    "                t = n\n",
    "                if gt < t:\n",
    "                    gt = t\n",
    "        return gt\n",
    "        "
   ]
  },
  {
   "cell_type": "code",
   "execution_count": null,
   "metadata": {},
   "outputs": [],
   "source": [
    "#length of last word\n",
    "class solution:\n",
    "    def lengthOfLastWord(self,s:str) -> int:\n",
    "        if 10000 >= len(s) >= 1:\n",
    "            if s ==\"\":\n",
    "                return 0\n",
    "            new = s.rstrip()\n",
    "            new = new.split(\" \")\n",
    "            return len(new[-1])"
   ]
  },
  {
   "cell_type": "code",
   "execution_count": null,
   "metadata": {},
   "outputs": [],
   "source": [
    "#plus one\n",
    "class solution:\n",
    "    def plusOne(self,digitss: list[int]) ->list[int]:\n",
    "        zeros = []\n",
    "        if 0 in digits:\n",
    "            for n in digits:\n",
    "                if n ==0:\n",
    "                    zeros.append(n)\n",
    "                else:\n",
    "                    break\n",
    "        if zeros != []:\n",
    "            zeros.pop()\n",
    "        result = \"\".join(map(str,digits))\n",
    "        result = int(result) + 1\n",
    "        result = list(str(result))\n",
    "        zeros.extend(result)\n",
    "        zeros.list(map(int,zeros))\n",
    "        return zeros"
   ]
  },
  {
   "cell_type": "code",
   "execution_count": null,
   "metadata": {},
   "outputs": [],
   "source": [
    "#add binary\n",
    "class solution:\n",
    "    def addBinary(self, a: str,b:str) -> str:\n",
    "        bin_sum = bin(int(a,2) + int(b,2))\n",
    "        bin_sum = bin_sum.replace('0b','')\n",
    "        return bin_sum"
   ]
  },
  {
   "cell_type": "code",
   "execution_count": null,
   "metadata": {},
   "outputs": [],
   "source": [
    "#sqrt(x)\n",
    "import math\n",
    "class solution:\n",
    "    def mysqrt(self,x:int) -> int:\n",
    "        root = math.sqrt(x)\n",
    "        return (math.floor(int(root)))"
   ]
  },
  {
   "cell_type": "code",
   "execution_count": null,
   "metadata": {},
   "outputs": [],
   "source": [
    "# two sum 2 input array is sorted\n",
    "class solution:\n",
    "    def twoSum(self,numbers:list[int],target:int) -> list[int]:\n",
    "        dict = {}\n",
    "        for x in range(len(numbers)):\n",
    "            pot_mat = target - numbers[x]\n",
    "            if pot_mat in dict:\n",
    "                return [dict[pot_mat], x + 1]\n",
    "            else:\n",
    "                dict[numbers[x]] = x + 1\n",
    "        return False\n",
    "        "
   ]
  },
  {
   "cell_type": "code",
   "execution_count": null,
   "metadata": {},
   "outputs": [],
   "source": [
    "#max consecutive ones\n",
    "class solution:\n",
    "    def findMaxConsecutiveOnes(self,nums:list[int]) -> int:\n",
    "        coutner,gt = 0,0\n",
    "        for n in nums:\n",
    "            if n == 1:\n",
    "                counter += 1\n",
    "            elif n == 0:\n",
    "                counter = 0\n",
    "            if gt < counter:\n",
    "                gt = counter\n",
    "        return gt"
   ]
  },
  {
   "cell_type": "code",
   "execution_count": null,
   "metadata": {},
   "outputs": [],
   "source": [
    "#distribute candies to people\n",
    "class solution:\n",
    "    def distributeCandies(self,candies:int,num_people:int) -> list[int]:\n",
    "        lst = [0] * num_people\n",
    "        count = 0\n",
    "        add =0\n",
    "        while count <= num_people -1 and candies >= 0:\n",
    "            add += 1\n",
    "            if add >= candies:\n",
    "                candies -= add\n",
    "                lst[count] += candies + add\n",
    "            else:\n",
    "                candies -= add\n",
    "                lst[count] += add\n",
    "            if count == num_people - 1:\n",
    "                 count = -1\n",
    "            count += 1\n",
    "        return lst"
   ]
  },
  {
   "cell_type": "code",
   "execution_count": null,
   "metadata": {},
   "outputs": [],
   "source": [
    "# compare string by frequency of the smallest character\n",
    "class solution:\n",
    "    def numSmallerByFrequency(self,queries: list[str], words: list[str]) -> list[int]:\n",
    "        word_freq = [0] * 12\n",
    "        for word in words:\n",
    "            word_freq[word.count(min(word))] += 1\n",
    "        for i in range(10,-1,-1):\n",
    "            word_freq[i] += word_freq[i + 1]\n",
    "        return [word_freq[q.count(min(q)) + 1] for q in queries]"
   ]
  }
 ]
}